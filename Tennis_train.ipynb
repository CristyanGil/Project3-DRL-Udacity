{
 "cells": [
  {
   "cell_type": "markdown",
   "metadata": {},
   "source": [
    "# Collaboration and Competition\n",
    "---\n",
    "The goal for this project is to solve the environment [**Tennis**](https://github.com/Unity-Technologies/ml-agents/blob/master/docs/Learning-Environment-Examples.md#tennis) using a [**Multi-Agent DDPG**](https://papers.nips.cc/paper/7217-multi-agent-actor-critic-for-mixed-cooperative-competitive-environments.pdf) approach."
   ]
  },
  {
   "cell_type": "markdown",
   "metadata": {},
   "source": [
    "### Import the environment\n",
    "\n",
    "The first thing to do is to import the unity environment and the wrapper to handle it."
   ]
  },
  {
   "cell_type": "code",
   "execution_count": 1,
   "metadata": {},
   "outputs": [
    {
     "name": "stderr",
     "output_type": "stream",
     "text": [
      "INFO:unityagents:\n",
      "'Academy' started successfully!\n",
      "Unity Academy name: Academy\n",
      "        Number of Brains: 1\n",
      "        Number of External Brains : 1\n",
      "        Lesson number : 0\n",
      "        Reset Parameters :\n",
      "\t\t\n",
      "Unity brain name: TennisBrain\n",
      "        Number of Visual Observations (per agent): 0\n",
      "        Vector Observation space type: continuous\n",
      "        Vector Observation space size (per agent): 8\n",
      "        Number of stacked Vector Observation: 3\n",
      "        Vector Action space type: continuous\n",
      "        Vector Action space size (per agent): 2\n",
      "        Vector Action descriptions: , \n"
     ]
    },
    {
     "name": "stdout",
     "output_type": "stream",
     "text": [
      "Number of agents: 2\n",
      "state_size: 48 obs_size: 24  action_size: 2\n"
     ]
    }
   ],
   "source": [
    "from environment import Env\n",
    "env = Env(file_name=\"Tennis_Windows_x86_64/Tennis.exe\")"
   ]
  },
  {
   "cell_type": "markdown",
   "metadata": {},
   "source": [
    "### Import the library that contains the agent handler\n",
    "Let's import the library MADDP that will help us to initialize the agents.\n",
    "Here we are going to get the actors and the critics for both agents involved in the environment."
   ]
  },
  {
   "cell_type": "code",
   "execution_count": 2,
   "metadata": {},
   "outputs": [],
   "source": [
    "from maddpg import MADDPG\n",
    "maddpg = MADDPG(env.state_size, env.obs_size, env.action_size, env.num_agents)"
   ]
  },
  {
   "cell_type": "markdown",
   "metadata": {},
   "source": [
    "### Replay Buffer Module\n",
    "Here we can set the batch size of the buffer, in this case, I set it to 1024"
   ]
  },
  {
   "cell_type": "code",
   "execution_count": 8,
   "metadata": {},
   "outputs": [],
   "source": [
    "from buffer import ReplayBuffer\n",
    "BATCH_SIZE = 1024\n",
    "buffer = ReplayBuffer(batch_size = BATCH_SIZE)"
   ]
  },
  {
   "cell_type": "markdown",
   "metadata": {},
   "source": [
    "### Agents Architectures\n",
    "Let's print the actor and critic architecture"
   ]
  },
  {
   "cell_type": "code",
   "execution_count": 9,
   "metadata": {},
   "outputs": [
    {
     "name": "stdout",
     "output_type": "stream",
     "text": [
      "[ActorNetwork(\n",
      "  (fc1): Linear(in_features=24, out_features=256, bias=True)\n",
      "  (fc2): Linear(in_features=256, out_features=128, bias=True)\n",
      "  (fc3): Linear(in_features=128, out_features=2, bias=True)\n",
      "), ActorNetwork(\n",
      "  (fc1): Linear(in_features=24, out_features=256, bias=True)\n",
      "  (fc2): Linear(in_features=256, out_features=128, bias=True)\n",
      "  (fc3): Linear(in_features=128, out_features=2, bias=True)\n",
      ")]\n",
      "[CriticNetwork(\n",
      "  (fcs1): Linear(in_features=48, out_features=256, bias=True)\n",
      "  (fc2): Linear(in_features=260, out_features=128, bias=True)\n",
      "  (fc3): Linear(in_features=128, out_features=1, bias=True)\n",
      "), CriticNetwork(\n",
      "  (fcs1): Linear(in_features=48, out_features=256, bias=True)\n",
      "  (fc2): Linear(in_features=260, out_features=128, bias=True)\n",
      "  (fc3): Linear(in_features=128, out_features=1, bias=True)\n",
      ")]\n"
     ]
    }
   ],
   "source": [
    "print(maddpg.get_actors())\n",
    "print(maddpg.get_critics())"
   ]
  },
  {
   "cell_type": "markdown",
   "metadata": {},
   "source": [
    "### Save the weights\n",
    "The next function is useful to save the weights for all of the models used. We have an actor, a target actor, a critic and a target critic for each of the two agents involved."
   ]
  },
  {
   "cell_type": "code",
   "execution_count": 5,
   "metadata": {},
   "outputs": [],
   "source": [
    "import torch\n",
    "def save_weights(maddpg):\n",
    "    for num_agnt, agnt in enumerate(maddpg.maddpg_agent):\n",
    "        torch.save(agnt.actor.state_dict(),         'ckpt_actor_{}.pth'.format(num_agnt))\n",
    "        torch.save(agnt.target_actor.state_dict(),  'ckpt_target_actor_{}.pth'.format(num_agnt))\n",
    "        torch.save(agnt.critic.state_dict(),        'ckpt_critic_{}.pth'.format(num_agnt))\n",
    "        torch.save(agnt.target_critic.state_dict(), 'ckpt_target_critic_{}.pth'.format(num_agnt))"
   ]
  },
  {
   "cell_type": "markdown",
   "metadata": {},
   "source": [
    "### Import the necessary libraries\n",
    "\n",
    "It is time to import the libraries that we will need, such as gym torch. "
   ]
  },
  {
   "cell_type": "code",
   "execution_count": 6,
   "metadata": {},
   "outputs": [],
   "source": [
    "from IPython.display import display, clear_output\n",
    "from collections import deque\n",
    "import matplotlib.pyplot as plt\n",
    "import numpy as np"
   ]
  },
  {
   "cell_type": "markdown",
   "metadata": {},
   "source": [
    "### Parameters for the training\n",
    "Here you can set the number of episodes, the episode that you want the agent to be trained, and the scores and means scores lists."
   ]
  },
  {
   "cell_type": "code",
   "execution_count": 7,
   "metadata": {},
   "outputs": [],
   "source": [
    "num_episodes = 2000\n",
    "episode_per_update = 1\n",
    "scores_deque = deque(maxlen=100)\n",
    "scores = []\n",
    "mean_scores = []"
   ]
  },
  {
   "cell_type": "markdown",
   "metadata": {},
   "source": [
    "### Train the agent\n",
    "\n",
    "Now, It is time to train the agents."
   ]
  },
  {
   "cell_type": "code",
   "execution_count": 8,
   "metadata": {},
   "outputs": [
    {
     "name": "stdout",
     "output_type": "stream",
     "text": [
      "Episode 2000: Average Score 0.17270000265911223, Score (max over agents) 0.10000000149011612\n"
     ]
    }
   ],
   "source": [
    "for episode in range(1, num_episodes+1):                                      # play game for num_episodes\n",
    "    #print(\"Episode: \", i)\n",
    "    for agent in maddpg.maddpg_agent:\n",
    "        agent.noise.reset()\n",
    "    clear_output(wait=True)\n",
    "    obs, state = env.reset(train_mode=True)                          # reset the environment \n",
    "    local_scores = np.zeros(env.num_agents)                          # initialize the score (for each agent)\n",
    "    while True:\n",
    "        #actions = np.random.randn(env.num_agents, env.action_size)  # select an action (for each agent)\n",
    "        actions = maddpg.act(obs)\n",
    "        actions = [ a.cpu().data.numpy() for a in actions]\n",
    "        #print(actions)\n",
    "        next_obs, next_state, rewards, dones = env.execute(actions)           # send all actions to the environment\n",
    "        \n",
    "        buffer.push(obs, state, actions, rewards, next_obs, next_state, dones)\n",
    "        \n",
    "        local_scores += rewards                         # update the score (for each agent)\n",
    "        obs, state = next_obs, next_state                               # roll over states to next time step\n",
    "        \n",
    "        \n",
    "        #if len(buffer) > batchsize and episode % episode_per_update < parallel_envs:\n",
    "        if len(buffer) > BATCH_SIZE and episode%episode_per_update==0:\n",
    "            #clear_output(wait=True)\n",
    "            for a_i in range(env.num_agents):\n",
    "                #print(\"agent: \", a_i)\n",
    "                samples = buffer.sample()\n",
    "                #maddpg.update(samples, a_i, logger)\n",
    "                maddpg.update(samples, a_i)\n",
    "            maddpg.update_targets() #soft update the target network towards the actual networks\n",
    "            #print(\"Updated...\")\n",
    "        if np.any(dones):                                  # exit loop if episode finished\n",
    "            break\n",
    "    episode_reward = np.max(local_scores)\n",
    "    scores.append(episode_reward)\n",
    "    scores_deque.append(episode_reward)\n",
    "    avg_score = np.mean(scores_deque)\n",
    "    mean_scores.append( avg_score )\n",
    "    #print('Score (max over agents) from episode {}: {}'.format(episode, episode_reward ))\n",
    "    print('Episode {}: Average Score {}, Score (max over agents) {}'.format(episode, avg_score, episode_reward ))\n",
    "    if len(mean_scores) >= 100:\n",
    "        if np.mean(mean_scores[-100]) >= 0.5: #condition for considering the environment as solved\n",
    "            print(\"Enrironment solved in {} episodes!!!\".format(episode) )\n",
    "    if episode_reward >=  np.max(scores):\n",
    "        save_weights(maddpg)\n",
    "        print(\"The models has been saved!\")\n",
    "#print(\"Mean Score: \", np.mean(scores_deque) )"
   ]
  },
  {
   "cell_type": "markdown",
   "metadata": {},
   "source": [
    "### Plot the results\n",
    "The final part is just to plot the results, we have a red line that shows the performance of the model across the episodes and a blue line that indicates the minimum value to consider the environment solved."
   ]
  },
  {
   "cell_type": "code",
   "execution_count": 9,
   "metadata": {},
   "outputs": [
    {
     "data": {
      "image/png": "[encoded data removed]",
      "text/plain": [
       "<matplotlib.figure.Figure at 0x7fd410a83b00>"
      ]
     },
     "metadata": {
      "needs_background": "light"
     },
     "output_type": "display_data"
    }
   ],
   "source": [
    "var = mean_scores\n",
    "\n",
    "fig = plt.figure()\n",
    "ax = fig.add_subplot(111)\n",
    "plt.plot(np.arange(1, len(var)+1), var, 'r-')\n",
    "plt.plot( [0, len(var)+1], [0.5, 0.5], 'b-')\n",
    "plt.ylabel('Score')\n",
    "plt.xlabel('Episode #')\n",
    "plt.show()"
   ]
  },
  {
   "cell_type": "code",
   "execution_count": 23,
   "metadata": {},
   "outputs": [
    {
     "data": {
      "text/plain": [
       "[0.51280000768601897,\n",
       " 0.537800008058548,\n",
       " 0.53880000807344919,\n",
       " 0.53890000807121397,\n",
       " 0.56090000839903953,\n",
       " 0.56890000851824885,\n",
       " 0.56790000850334765,\n",
       " 0.56590000847354527,\n",
       " 0.5909000088460743,\n",
       " 0.60590000906959174,\n",
       " 0.60490000905469055,\n",
       " 0.62890000941231849,\n",
       " 0.65490000979974861,\n",
       " 0.67990001017227764,\n",
       " 0.70590001055970786,\n",
       " 0.72490001084282996,\n",
       " 0.71890001075342302,\n",
       " 0.74200001109391456,\n",
       " 0.74610001115128399,\n",
       " 0.77010001150891183,\n",
       " 0.78720001175999643,\n",
       " 0.78820001177489762,\n",
       " 0.79320001184940336,\n",
       " 0.79320001184940336,\n",
       " 0.79130001181736587,\n",
       " 0.79030001180246467,\n",
       " 0.80630001204088331,\n",
       " 0.80720001205801961,\n",
       " 0.7992000119388103,\n",
       " 0.79820001192390921,\n",
       " 0.79820001192390921,\n",
       " 0.79820001192390921,\n",
       " 0.7973000119067728,\n",
       " 0.7973000119067728,\n",
       " 0.79930001193657518,\n",
       " 0.80430001201108103,\n",
       " 0.80430001201108103,\n",
       " 0.8163000121898949,\n",
       " 0.8163000121898949,\n",
       " 0.81340001214295621,\n",
       " 0.81340001214295621,\n",
       " 0.80740001205354928,\n",
       " 0.80930001208558677,\n",
       " 0.80830001207068558,\n",
       " 0.82430001230910421,\n",
       " 0.82530001232400541,\n",
       " 0.83130001241341234,\n",
       " 0.83140001241117711,\n",
       " 0.8524000127241016,\n",
       " 0.8514000127092004,\n",
       " 0.84840001266449694,\n",
       " 0.85440001275390387,\n",
       " 0.85440001275390387,\n",
       " 0.85540001276880506,\n",
       " 0.85640001278370614,\n",
       " 0.86940001297742131,\n",
       " 0.87140001300722358,\n",
       " 0.87140001300722358,\n",
       " 0.87550001306459313,\n",
       " 0.88350001318380234,\n",
       " 0.88350001318380234,\n",
       " 0.89140001330524687,\n",
       " 0.88430001320317386,\n",
       " 0.88430001320317386,\n",
       " 0.89520001336932187,\n",
       " 0.89620001338422295,\n",
       " 0.89610001338645817,\n",
       " 0.89610001338645817,\n",
       " 0.89610001338645817,\n",
       " 0.89510001337155698,\n",
       " 0.89410001335665579,\n",
       " 0.89710001340135936,\n",
       " 0.87620001308619977,\n",
       " 0.87620001308619977,\n",
       " 0.87620001308619977,\n",
       " 0.8642000129073858,\n",
       " 0.86220001287758352,\n",
       " 0.85630001278594137,\n",
       " 0.85530001277104017,\n",
       " 0.83930001253262165,\n",
       " 0.81430001216009262,\n",
       " 0.80520001202821734,\n",
       " 0.80520001202821734,\n",
       " 0.78410001171752808,\n",
       " 0.76310001140460371,\n",
       " 0.76310001140460371,\n",
       " 0.7731000115536153,\n",
       " 0.77410001156851649,\n",
       " 0.76810001147910956,\n",
       " 0.74410001112148161,\n",
       " 0.74410001112148161,\n",
       " 0.73210001094266774,\n",
       " 0.7261000108532607,\n",
       " 0.7261000108532607,\n",
       " 0.7171000107191503,\n",
       " 0.72410001082345843,\n",
       " 0.72510001083835962,\n",
       " 0.72510001083835962,\n",
       " 0.73710001101717348,\n",
       " 0.73110001092776655,\n",
       " 0.70510001054033633,\n",
       " 0.69210001034662127,\n",
       " 0.69110001033172008,\n",
       " 0.690100010316819,\n",
       " 0.66810000998899344]"
      ]
     },
     "execution_count": 23,
     "metadata": {},
     "output_type": "execute_result"
    }
   ],
   "source": [
    "mean_scores[1595: 1700]"
   ]
  },
  {
   "cell_type": "markdown",
   "metadata": {},
   "source": [
    "### Save the final agent\n"
   ]
  },
  {
   "cell_type": "code",
   "execution_count": 24,
   "metadata": {},
   "outputs": [],
   "source": [
    "for num_agnt, agnt in enumerate(maddpg.maddpg_agent):\n",
    "    torch.save(agnt.actor.state_dict(),         'final_ckpt_actor_{}.pth'.format(num_agnt))\n",
    "    torch.save(agnt.target_actor.state_dict(),  'final_ckpt_target_actor_{}.pth'.format(num_agnt))\n",
    "    torch.save(agnt.critic.state_dict(),        'final_ckpt_critic_{}.pth'.format(num_agnt))\n",
    "    torch.save(agnt.target_critic.state_dict(), 'final_ckpt_target_critic_{}.pth'.format(num_agnt))"
   ]
  },
  {
   "cell_type": "code",
   "execution_count": null,
   "metadata": {},
   "outputs": [],
   "source": []
  }
 ],
 "metadata": {
  "kernelspec": {
   "display_name": "Python 3",
   "language": "python",
   "name": "python3"
  },
  "language_info": {
   "codemirror_mode": {
    "name": "ipython",
    "version": 3
   },
   "file_extension": ".py",
   "mimetype": "text/x-python",
   "name": "python",
   "nbconvert_exporter": "python",
   "pygments_lexer": "ipython3",
   "version": "3.6.10"
  }
 },
 "nbformat": 4,
 "nbformat_minor": 2
}
